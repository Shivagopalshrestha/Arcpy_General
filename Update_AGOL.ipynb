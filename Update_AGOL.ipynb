{
 "cells": [
  {
   "cell_type": "markdown",
   "metadata": {},
   "source": [
    "# Fort Collins Bridge Dashboard - update ArcGIS Online"
   ]
  },
  {
   "cell_type": "code",
   "execution_count": 1,
   "metadata": {},
   "outputs": [],
   "source": [
    "# Resources\n",
    "# ESRI overwriting feature layers in AGOL:\n",
    "# https://developers.arcgis.com/python/sample-notebooks/overwriting-feature-layers/\n",
    "\n",
    "# Downloading the arcgis module\n",
    "# https://developers.arcgis.com/python/guide/install-and-set-up/"
   ]
  },
  {
   "cell_type": "code",
   "execution_count": 2,
   "metadata": {},
   "outputs": [],
   "source": [
    "# Running notebook from terminal\n",
    "# https://nbconvert.readthedocs.io/en/latest/execute_api.html\n",
    "\n",
    "# To run from command line: open command prompt, navigate to the home directory, run this command:\n",
    "# jupyter nbconvert --to notebook --execute Update_AGOL.ipynb"
   ]
  },
  {
   "cell_type": "code",
   "execution_count": 3,
   "metadata": {},
   "outputs": [],
   "source": [
    "#### Import the ArcGIS Python API ####\n",
    "\n",
    "from arcgis.gis import *\n",
    "# from arcgis import features\n",
    "from arcgis.features import *\n",
    "from IPython.display import display\n",
    "\n",
    "#### Import packages ####\n",
    "\n",
    "import pandas as pd\n",
    "import numpy as np\n",
    "import os\n",
    "import time\n",
    "import glob"
   ]
  },
  {
   "cell_type": "markdown",
   "metadata": {},
   "source": [
    "# Get most recent bridge data csv"
   ]
  },
  {
   "cell_type": "code",
   "execution_count": 4,
   "metadata": {},
   "outputs": [
    {
     "data": {
      "text/plain": [
       "'C:\\\\Users\\\\Daniel.Aragon\\\\Desktop\\\\FortCollinsDemo'"
      ]
     },
     "execution_count": 4,
     "metadata": {},
     "output_type": "execute_result"
    }
   ],
   "source": [
    "# Get current directory (assuming csv's are stored in the same file as the notebook)\n",
    "# https://github.com/ipython/ipython/issues/10123\n",
    "\n",
    "workbookDir = os.getcwd()\n",
    "workbookDir"
   ]
  },
  {
   "cell_type": "code",
   "execution_count": 5,
   "metadata": {},
   "outputs": [
    {
     "name": "stdout",
     "output_type": "stream",
     "text": [
      "newest .csv file:  bridge_data_20180819214219.csv\n"
     ]
    }
   ],
   "source": [
    "# Get most recently created csv using glob.  Change to 'getmtime' if newest modification date is needed\n",
    "# https://stackoverflow.com/questions/18279063/python-find-newest-file-with-mp3-extension-in-directory\n",
    "\n",
    "newestcsv = max(glob.iglob('*.csv'), key=os.path.getctime)\n",
    "print ('newest .csv file: ',newestcsv)"
   ]
  },
  {
   "cell_type": "markdown",
   "metadata": {},
   "source": [
    "# Read newestcsv into pandas dataframe"
   ]
  },
  {
   "cell_type": "code",
   "execution_count": 6,
   "metadata": {},
   "outputs": [
    {
     "data": {
      "text/html": [
       "<div>\n",
       "<style>\n",
       "    .dataframe thead tr:only-child th {\n",
       "        text-align: right;\n",
       "    }\n",
       "\n",
       "    .dataframe thead th {\n",
       "        text-align: left;\n",
       "    }\n",
       "\n",
       "    .dataframe tbody tr th {\n",
       "        vertical-align: top;\n",
       "    }\n",
       "</style>\n",
       "<table border=\"1\" class=\"dataframe\">\n",
       "  <thead>\n",
       "    <tr style=\"text-align: right;\">\n",
       "      <th></th>\n",
       "      <th>Unnamed: 0</th>\n",
       "      <th>bridge_id</th>\n",
       "      <th>brkey</th>\n",
       "      <th>struct_num</th>\n",
       "      <th>yearbuilt</th>\n",
       "      <th>latitude</th>\n",
       "      <th>longitude</th>\n",
       "      <th>scourcrit</th>\n",
       "      <th>suff_rate</th>\n",
       "      <th>nbi_rating</th>\n",
       "      <th>in_modtime</th>\n",
       "      <th>Inspection_number</th>\n",
       "    </tr>\n",
       "  </thead>\n",
       "  <tbody>\n",
       "    <tr>\n",
       "      <th>0</th>\n",
       "      <td>0</td>\n",
       "      <td>FCLMY-0.2-TRILB</td>\n",
       "      <td>FCLMY-0.2-TRILB</td>\n",
       "      <td>FCLMY-0.2-TRILB</td>\n",
       "      <td>1986</td>\n",
       "      <td>40.497778</td>\n",
       "      <td>-105.058056</td>\n",
       "      <td>8</td>\n",
       "      <td>95.6</td>\n",
       "      <td>0</td>\n",
       "      <td>1/11/2016 11:46</td>\n",
       "      <td>1</td>\n",
       "    </tr>\n",
       "    <tr>\n",
       "      <th>1</th>\n",
       "      <td>1</td>\n",
       "      <td>FCLMY-1.2-VINE</td>\n",
       "      <td>FCLMY-1.2-VINE</td>\n",
       "      <td>FCLMY-1.2-VINE</td>\n",
       "      <td>1958</td>\n",
       "      <td>40.613333</td>\n",
       "      <td>-105.057500</td>\n",
       "      <td>8</td>\n",
       "      <td>68.2</td>\n",
       "      <td>0</td>\n",
       "      <td>10/23/2015 15:17</td>\n",
       "      <td>1</td>\n",
       "    </tr>\n",
       "    <tr>\n",
       "      <th>2</th>\n",
       "      <td>2</td>\n",
       "      <td>FCLNDS-0.1-BDWK</td>\n",
       "      <td>FCLNDS-0.1-BDWK</td>\n",
       "      <td>FCLNDS-0.1-BDWK</td>\n",
       "      <td>1982</td>\n",
       "      <td>40.533611</td>\n",
       "      <td>-105.072222</td>\n",
       "      <td>8</td>\n",
       "      <td>97.8</td>\n",
       "      <td>0</td>\n",
       "      <td>9/19/2015 12:47</td>\n",
       "      <td>1</td>\n",
       "    </tr>\n",
       "    <tr>\n",
       "      <th>3</th>\n",
       "      <td>3</td>\n",
       "      <td>FCMNR-0.0-CLGE</td>\n",
       "      <td>FCMNR-0.0-CLGE</td>\n",
       "      <td>FCMNR-0.0-CLGE</td>\n",
       "      <td>1974</td>\n",
       "      <td>40.540000</td>\n",
       "      <td>-105.076389</td>\n",
       "      <td>8</td>\n",
       "      <td>19.8</td>\n",
       "      <td>1</td>\n",
       "      <td>10/15/2015 12:41</td>\n",
       "      <td>1</td>\n",
       "    </tr>\n",
       "    <tr>\n",
       "      <th>4</th>\n",
       "      <td>4</td>\n",
       "      <td>FCMOSS-0.1-BENT</td>\n",
       "      <td>FCMOSS-0.1-BENT</td>\n",
       "      <td>FCMOSS-0.1-BENT</td>\n",
       "      <td>1985</td>\n",
       "      <td>40.530833</td>\n",
       "      <td>-105.089167</td>\n",
       "      <td>5</td>\n",
       "      <td>97.4</td>\n",
       "      <td>0</td>\n",
       "      <td>11/16/2015 9:48</td>\n",
       "      <td>1</td>\n",
       "    </tr>\n",
       "  </tbody>\n",
       "</table>\n",
       "</div>"
      ],
      "text/plain": [
       "   Unnamed: 0        bridge_id            brkey       struct_num  yearbuilt  \\\n",
       "0           0  FCLMY-0.2-TRILB  FCLMY-0.2-TRILB  FCLMY-0.2-TRILB       1986   \n",
       "1           1   FCLMY-1.2-VINE   FCLMY-1.2-VINE   FCLMY-1.2-VINE       1958   \n",
       "2           2  FCLNDS-0.1-BDWK  FCLNDS-0.1-BDWK  FCLNDS-0.1-BDWK       1982   \n",
       "3           3   FCMNR-0.0-CLGE   FCMNR-0.0-CLGE   FCMNR-0.0-CLGE       1974   \n",
       "4           4  FCMOSS-0.1-BENT  FCMOSS-0.1-BENT  FCMOSS-0.1-BENT       1985   \n",
       "\n",
       "    latitude   longitude scourcrit  suff_rate nbi_rating        in_modtime  \\\n",
       "0  40.497778 -105.058056         8       95.6          0   1/11/2016 11:46   \n",
       "1  40.613333 -105.057500         8       68.2          0  10/23/2015 15:17   \n",
       "2  40.533611 -105.072222         8       97.8          0   9/19/2015 12:47   \n",
       "3  40.540000 -105.076389         8       19.8          1  10/15/2015 12:41   \n",
       "4  40.530833 -105.089167         5       97.4          0   11/16/2015 9:48   \n",
       "\n",
       "   Inspection_number  \n",
       "0                  1  \n",
       "1                  1  \n",
       "2                  1  \n",
       "3                  1  \n",
       "4                  1  "
      ]
     },
     "execution_count": 6,
     "metadata": {},
     "output_type": "execute_result"
    }
   ],
   "source": [
    "# read the initial csv\n",
    "# csv1 = 'temp_bridge_data.csv'\n",
    "csv1 = newestcsv\n",
    "FC_bridgeData = pd.read_csv(csv1)\n",
    "FC_bridgeData.head()"
   ]
  },
  {
   "cell_type": "markdown",
   "metadata": {},
   "source": [
    "# Connect to Denver_Field_User agol account"
   ]
  },
  {
   "cell_type": "code",
   "execution_count": 7,
   "metadata": {},
   "outputs": [],
   "source": [
    "#Access the AGOL account \n",
    "gis = GIS(\"https://www.arcgis.com\", \"Denver_Field_User\", \"165SouthUnion\")"
   ]
  },
  {
   "cell_type": "code",
   "execution_count": 8,
   "metadata": {
    "scrolled": true
   },
   "outputs": [
    {
     "data": {
      "text/html": [
       "<div class=\"9item_container\" style=\"height: auto; overflow: hidden; border: 1px solid #cfcfcf; border-radius: 2px; background: #f6fafa; line-height: 1.21429em; padding: 10px;\">\n",
       "                    <div class=\"item_left\" style=\"width: 210px; float: left;\">\n",
       "                       <a href='https://Baker.maps.arcgis.com/home/user.html?user=Denver_Field_User' target='_blank'>\n",
       "                        <img src='data:image/png;base64,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' width='200' height='133' class=\"itemThumbnail\">\n",
       "                       </a>\n",
       "                    </div>\n",
       "\n",
       "                    <div class=\"item_right\" style=\"float: none; width: auto; overflow: hidden;\">\n",
       "                        <a href='https://Baker.maps.arcgis.com/home/user.html?user=Denver_Field_User' target='_blank'><b>Denver Field_User</b>\n",
       "                        </a>\n",
       "                        <br/><br/><b>Bio</b>: \n",
       "                        <br/><b>First Name</b>: Denver\n",
       "                        <br/><b>Last Name</b>: Field_User\n",
       "                        <br/><b>Username</b>: Denver_Field_User\n",
       "                        <br/><b>Joined</b>: February 08, 2016\n",
       "\n",
       "                    </div>\n",
       "                </div>\n",
       "                "
      ],
      "text/plain": [
       "<User username:Denver_Field_User>"
      ]
     },
     "execution_count": 8,
     "metadata": {},
     "output_type": "execute_result"
    }
   ],
   "source": [
    "# Get user data\n",
    "user = gis.users.get('Denver_Field_User')\n",
    "user"
   ]
  },
  {
   "cell_type": "markdown",
   "metadata": {},
   "source": [
    "# Check for existing feature layer, create boolean variable to store result"
   ]
  },
  {
   "cell_type": "code",
   "execution_count": 9,
   "metadata": {},
   "outputs": [
    {
     "name": "stdout",
     "output_type": "stream",
     "text": [
      "length of search result:  1\n"
     ]
    },
    {
     "data": {
      "text/plain": [
       "False"
      ]
     },
     "execution_count": 9,
     "metadata": {},
     "output_type": "execute_result"
    }
   ],
   "source": [
    "# check if service name is available (True means feature layer does not exist, False means service layer already exists)\n",
    "search_result1 = gis.content.search(query='Latest Fort Collins Bridge Inspection Data csv', item_type=\"csv\")\n",
    "\n",
    "print ('length of search result: ',len(search_result1))\n",
    "\n",
    "if len(search_result1) == 0:\n",
    "    layer_available = True\n",
    "else:\n",
    "    layer_available = False\n",
    "\n",
    "\n",
    "layer_available"
   ]
  },
  {
   "cell_type": "markdown",
   "metadata": {},
   "source": [
    "# Upload the csv into a new feature layer OR overwrite existing to AGOL"
   ]
  },
  {
   "cell_type": "code",
   "execution_count": 10,
   "metadata": {
    "scrolled": false
   },
   "outputs": [
    {
     "name": "stdout",
     "output_type": "stream",
     "text": [
      "Bridge Inspection Data updated with new data to AGOL account\n"
     ]
    }
   ],
   "source": [
    "if layer_available == True:\n",
    "  \n",
    "    # add the csv as an item \n",
    "    item_prop = {'title':'Latest Fort Collins Bridge Inspection Data csv'}\n",
    "    csv_item = gis.content.add(item_properties=item_prop, data=csv1)\n",
    "    csv_item\n",
    "    \n",
    "    # publish the csv item into a feature layer \n",
    "    bridge_item = csv_item.publish()\n",
    "    bridge_item.protect(enable = False)\n",
    "    bridge_item\n",
    "    \n",
    "    # update the item metadata\n",
    "    item_prop = {'title':'Latest Fort Collins Bridge Inspections'}\n",
    "    bridge_item.update(item_properties = item_prop)\n",
    "    \n",
    "    # Display the web location of the feature layer\n",
    "    bridge_item.url\n",
    "    \n",
    "    print('Bridge Inspection Data added to AGOL account')\n",
    "    \n",
    "else: \n",
    "    # Find bridges feature layer, return as item\n",
    "    search_my_contents = gis.content.search(query=\"title: Latest Fort Collins Bridge Inspections\", item_type=\"Feature Service\")\n",
    "    search_my_contents\n",
    "    search_result_id = (search_my_contents[0]).id\n",
    "    search_result_id\n",
    "    bridge_item = gis.content.get(search_result_id)\n",
    "    \n",
    "    # Convert bridges item into feature layer \n",
    "    bridge_flayer_collection = FeatureLayerCollection.fromitem(bridge_item)\n",
    "    \n",
    "    # use the overwrite() method to update the bridge item which can be accessed using the manager property\n",
    "    bridge_flayer_collection.manager.overwrite(newestcsv)\n",
    "    \n",
    "    print('Bridge Inspection Data updated with new data to AGOL account')"
   ]
  },
  {
   "cell_type": "code",
   "execution_count": null,
   "metadata": {},
   "outputs": [],
   "source": []
  }
 ],
 "metadata": {
  "kernelspec": {
   "display_name": "Python 3",
   "language": "python",
   "name": "python3"
  },
  "language_info": {
   "codemirror_mode": {
    "name": "ipython",
    "version": 3
   },
   "file_extension": ".py",
   "mimetype": "text/x-python",
   "name": "python",
   "nbconvert_exporter": "python",
   "pygments_lexer": "ipython3",
   "version": "3.6.3"
  }
 },
 "nbformat": 4,
 "nbformat_minor": 2
}
